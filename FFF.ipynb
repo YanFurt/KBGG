{
 "cells": [
  {
   "cell_type": "code",
   "execution_count": 1,
   "metadata": {},
   "outputs": [],
   "source": [
    "import numpy as np\n",
    "from tkinter import *\n",
    "from functools import partial\n",
    "import time\n",
    "from datetime import datetime,timedelta\n",
    "from PIL import Image, ImageTk\n",
    "import random\n",
    "import json\n",
    "from playsound import playsound\n",
    "import pandas as pd\n",
    "import os"
   ]
  },
  {
   "cell_type": "code",
   "execution_count": 2,
   "metadata": {},
   "outputs": [],
   "source": [
    "\n",
    "\n",
    "qstns = {1:['Arrange the following in the increasing order of their additive inverse:',[('A. 5',-5),('B. 0',0),('C. -1',1),('D. 8',-8)]],\n",
    "        2:['Arrange the following in the decreasing order',[('A. min{23,-10}',-10), ('B. max{0,1}',1),('C.min{4,6}',4),('D. max{-3, -6}',-3)]],\n",
    "        3:['Arrange in ascending order:',[('A. tan pi', 0),('B. tan pi/2', np.inf),('C. tan pi/3',1.73),('D. tan pi/4',1)]],\n",
    "        4:['Arrange in the decreasing order of their greatest integer function:',[('A. -2',-2),('B. 3',3),('C. 1.5',1),('D. 0',0)]],\n",
    "        5:['Arrange in the increasing order of their absolute difference:',[('A. 1, 10',9),('B. -1, 6',7),('C. -5, -3',2),('D. 7, 15',8)]],\n",
    "        6:['Arrange in the decreasing order of the mode:',[('A. 1,2,2,3,4,3,2',2), ('B. 3,4,5,3,3,1,1',3),('C. 4,5,4,5,4,6,2',4),('D. 3,1,1,5,6,6,1',1)]],\n",
    "        7:['Arrange in Ascending order:',[('A. 1 nanometer',1e-9),('B. 1 picometer', 1e-12),('C. 1 micrometer',1e-6),('D. 1 millimeter', 1e-3)]]}"
   ]
  },
  {
   "cell_type": "code",
   "execution_count": 3,
   "metadata": {},
   "outputs": [],
   "source": [
    "ANSKEY = ['dummy','DABC','CBDA','ADCB','BCDA','CBDA','CBAD','BACD']"
   ]
  },
  {
   "cell_type": "code",
   "execution_count": 23,
   "metadata": {},
   "outputs": [],
   "source": [
    "b = 1\n",
    "global j\n",
    "j = 0"
   ]
  },
  {
   "cell_type": "code",
   "execution_count": 24,
   "metadata": {},
   "outputs": [],
   "source": [
    "def timer():\n",
    "    global watchtime\n",
    "    watchtime = datetime(1,1,1,0,1,0)\n",
    "    update()    \n",
    "    \n",
    "    \n",
    "def update():\n",
    "    global watchtime\n",
    "    now = watchtime.strftime('%M:%S')\n",
    "    ftmr.configure(text=now)\n",
    "    try:\n",
    "        watchtime = watchtime - timedelta(seconds = 1)\n",
    "        fcomp.after(1000,update)\n",
    "    except :\n",
    "        ftmr.config(text='Time up!')\n",
    "\n",
    "            \n",
    "def timopt():\n",
    "    setopt()\n",
    "    timer()"
   ]
  },
  {
   "cell_type": "code",
   "execution_count": 25,
   "metadata": {},
   "outputs": [],
   "source": [
    "def setqstn():\n",
    "    global curr\n",
    "    curr = qstns[b]\n",
    "    global sortcurr\n",
    "    sortcurr = iter(sorted(curr[1], reverse = (b%2==0), key = lambda x: x[1]))\n",
    "    fqstn.config(text=curr[0])\n",
    "    \n",
    "def setopt():\n",
    "    for i in range(4):\n",
    "        anss[i].config(text = curr[1][i][0])\n",
    "        "
   ]
  },
  {
   "cell_type": "code",
   "execution_count": 26,
   "metadata": {},
   "outputs": [],
   "source": [
    "       \n",
    "def sortans(event):\n",
    "    global j\n",
    "    try:\n",
    "        resp = next(sortcurr)\n",
    "        anss[j].config(text= resp[0] + ' = '+str(resp[1]))\n",
    "        if j<3:\n",
    "            j += 1\n",
    "        else:\n",
    "            j=0\n",
    "        \n",
    "        #fscr.after(2000,sortans)\n",
    "    except StopIteration:\n",
    "        pass\n",
    "\n",
    "def new():\n",
    "    global b\n",
    "    b += 1\n",
    "    ldrbrd.place_forget()\n",
    "\n",
    "def clr():\n",
    "    for i in range(4):\n",
    "        anss[i].config(text='')\n",
    "    for i in range(10):\n",
    "        \n",
    "        plnam[i].config(bg='black')\n",
    "        plans[i].config(bg='black')\n",
    "        pltime[i].config(bg='black')\n",
    "    \n",
    "        \n",
    "    \n",
    "def leaderboard():\n",
    "    fqstn.config(text=' ')\n",
    "    for i in range(4):\n",
    "        anss[i].config(text=' ')\n",
    "    ldrbrd.place(relx = 0.05, rely = 0.1, relwidth = 0.6, relheight =0.8)\n",
    "    df = pd.read_excel('Downloads/faf.xlsx', parse_dates=[0], usecols=[0,2,3])\n",
    "    df.dropna(how='all',inplace=True)\n",
    "    df['Time']=pd.to_datetime(df['Timestamp']-df.iloc[0,0]).dt.strftime('%M:%S.%f')\n",
    "    for i in range(1,len(df)):\n",
    "        plnam[i].config(text =df.iloc[i,1].upper())\n",
    "        plans[i].config(text=df.iloc[i,2].upper())\n",
    "        pltime[i].config(text=df.iloc[i,3][:8])\n",
    "    os.remove('Downloads/faf.xlsx')    \n",
    "        \n",
    "def revcor(event):\n",
    "    for i in range(10):\n",
    "        if plans[i]['text'] == ANSKEY[b]:\n",
    "            plnam[i].config(bg='green')\n",
    "            plans[i].config(bg='green')\n",
    "            pltime[i].config(bg='green')\n"
   ]
  },
  {
   "cell_type": "code",
   "execution_count": null,
   "metadata": {},
   "outputs": [],
   "source": []
  },
  {
   "cell_type": "code",
   "execution_count": 43,
   "metadata": {},
   "outputs": [],
   "source": [
    "fcomp = Tk()\n",
    "fcomp.title(\"FFF\")\n",
    "fcomp.geometry('900x720')\n",
    "fcomp.config(bg = 'blue')\n",
    "fscr = Frame(fcomp, bg = 'black')\n",
    "fscr.place(relx = 0.05, rely = 0.1, relwidth = 0.6, relheight =0.8)\n",
    "\n",
    "ldrbrd = Frame(fcomp, bg = 'black')\n",
    "\n",
    "plnam = [Label(ldrbrd, fg='white',bg='black',font = ('Times New Roman', 15), anchor='w') for i in range(10)]\n",
    "plans = [Label(ldrbrd, fg='white',bg='black',font = ('Times New Roman', 15), anchor='w') for i in range(10)]\n",
    "pltime = [Label(ldrbrd, fg='white',bg='black',font = ('Times New Roman', 15), anchor='w') for i in range(10)]\n",
    "\n",
    "for i in range(10):\n",
    "    plnam[i].place(relx=0, rely=0+0.1*i,relwidth=0.4,relheight=0.1)\n",
    "    plans[i].place(relx=0.4, rely=0+0.1*i,relwidth=0.3,relheight=0.1)\n",
    "    pltime[i].place(relx=0.7, rely=0+0.1*i,relwidth=0.3,relheight=0.1)    \n",
    "    \n",
    "\n",
    "plnam[0].config(text= 'Player')\n",
    "plans[0].config(text='Answer')\n",
    "pltime[0].config(text='Time')\n",
    "\n",
    "\n",
    "fqstn = Label(fscr , bg = 'blue', bd =5, fg='white',anchor = 'w', font = ('Times New Roman', 18), wraplength = 500, justify = LEFT)\n",
    "fqstn.place(relx = 0.05, rely = 0.02, relwidth = 0.9, relheight = 0.23)\n",
    "\n",
    "fcomp.bind('<Right>',sortans)\n",
    "fcomp.bind('<Up>',revcor)\n",
    "\n",
    "anss = [0,0,0,0]\n",
    "for i in range(4):\n",
    "    anss[i] = Label(fscr, bg ='blue',font = ('Times New Roman', 15),anchor='w',fg = 'white')\n",
    "    anss[i].place(relx = 0.05, rely = 0.28 + i*0.18, relwidth = 0.9, relheight = 0.16)\n",
    "    \n",
    "    \n",
    "ftmr = Label(fcomp)    \n",
    "ftmr.place(relx = 0.72, rely = 0.1, relwidth = 0.2, relheight = 0.1)\n",
    "\n",
    "butfr = Frame(fcomp)\n",
    "butfr.place(relx = 0.7, rely = 0.4, relwidth = 0.25, relheight = 0.5)\n",
    "\n",
    "fbuts = [0]*5\n",
    "commands = [('Qstn',setqstn),('Options',timopt),('Clear',clr),('New',new),('Leaderboard', leaderboard)]\n",
    "for i in range(5):\n",
    "    fbuts[i] = Button(butfr, text = commands[i][0], command = commands[i][1])\n",
    "    fbuts[i].pack(expand=True, fill=BOTH)"
   ]
  },
  {
   "cell_type": "code",
   "execution_count": 44,
   "metadata": {},
   "outputs": [
    {
     "name": "stderr",
     "output_type": "stream",
     "text": [
      "C:\\Users\\Yannique\\Anaconda3\\lib\\site-packages\\ipykernel_launcher.py:38: FutureWarning: Passing timedelta64-dtype data is deprecated, will raise a TypeError in a future version\n"
     ]
    }
   ],
   "source": [
    "fcomp.mainloop()"
   ]
  },
  {
   "cell_type": "code",
   "execution_count": null,
   "metadata": {},
   "outputs": [],
   "source": []
  },
  {
   "cell_type": "code",
   "execution_count": 40,
   "metadata": {},
   "outputs": [],
   "source": [
    "b = 4"
   ]
  },
  {
   "cell_type": "code",
   "execution_count": null,
   "metadata": {},
   "outputs": [],
   "source": [
    "ANSKEY[1]"
   ]
  }
 ],
 "metadata": {
  "kernelspec": {
   "display_name": "Python 3",
   "language": "python",
   "name": "python3"
  },
  "language_info": {
   "codemirror_mode": {
    "name": "ipython",
    "version": 3
   },
   "file_extension": ".py",
   "mimetype": "text/x-python",
   "name": "python",
   "nbconvert_exporter": "python",
   "pygments_lexer": "ipython3",
   "version": "3.7.4"
  }
 },
 "nbformat": 4,
 "nbformat_minor": 2
}
