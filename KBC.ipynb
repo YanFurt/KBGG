{
 "cells": [
  {
   "cell_type": "code",
   "execution_count": 53,
   "metadata": {},
   "outputs": [],
   "source": [
    "import numpy as np\n",
    "from tkinter import *\n",
    "from functools import partial\n",
    "#import time\n",
    "from datetime import datetime,time,timedelta\n",
    "from PIL import Image, ImageTk\n",
    "import random\n",
    "import json\n",
    "from playsound import playsound\n",
    "import os"
   ]
  },
  {
   "cell_type": "code",
   "execution_count": 66,
   "metadata": {},
   "outputs": [],
   "source": [
    "import pandas as pd\n",
    "import seaborn as sb\n",
    "import matplotlib.pyplot as plt\n",
    "from matplotlib.backends.backend_tkagg import FigureCanvasTkAgg"
   ]
  },
  {
   "cell_type": "code",
   "execution_count": 67,
   "metadata": {},
   "outputs": [],
   "source": [
    "def plot():\n",
    "    resp = pd.read_excel('Downloads/apoll.xlsx',header=None)\n",
    "    resp.dropna(inplace=True)\n",
    "    c = resp[1].value_counts(normalize=True)\n",
    "    fig = plt.figure(figsize=(3,5))\n",
    "    global figgy\n",
    "    figgy = FigureCanvasTkAgg(fig,but2)\n",
    "    figgy.get_tk_widget().pack(fill=BOTH, expand=True)\n",
    "    sb.barplot(x = c.index, y = c.values, order = ['A','B','C','D'])\n",
    "    os.remove('Downloads/apoll.xlsx')"
   ]
  },
  {
   "cell_type": "code",
   "execution_count": 136,
   "metadata": {},
   "outputs": [],
   "source": [
    "###['playr1.txt']\n",
    "imgdict = [[(2,0),(9,1)],[(4,2),(6,9),(7,3),(8,4),(10,5),(11,6)],[(10,7),(11,8)]]\n",
    "\n",
    "\n",
    "\n",
    "imgs = ['s26.jpg','2-9.jpg','3-4.png','3-7.png','3-8.png','3-10.png','3-11.png','4-10.png','4-11.png','3-6.png']\n",
    "pics=[Image.open(i) for i in imgs]\n",
    "pics[0] = pics[0].resize((200,150),Image.ANTIALIAS)\n",
    "pics[5] = pics[5].resize((150,136),Image.ANTIALIAS)\n",
    "pics[9] = pics[9].resize((300,140),Image.ANTIALIAS)\n",
    "pics[3] = pics[3].resize((200,130),Image.ANTIALIAS)\n"
   ]
  },
  {
   "cell_type": "code",
   "execution_count": 109,
   "metadata": {},
   "outputs": [],
   "source": [
    "set1 = {1:['What is the centre of the circle given by the equation: (x+2)\\u00b2 + (y+6)\\u00b2 = 49? ',('(-2,-6)','(2,6)','(8,7)','(6,-2)')],2:['What is the GCD of 12 and 78?',(6,4,12,8)],3:['What is the sum of squares of the 1st 5 natural numbers?',(55,49,52,54)],4:['From a bag containing 8 red, 7 blue and 5 green balls, one ball is picked randomly. What is the probability that it is not blue? ',(0.65,0.33,0.2,0.8)],5:['How many multiples of 17 are between 100 and 250?',(9,8,11,10)],\n",
    "        6:['What is true about the eccentricity ‘e’ of the conic described by the equation x\\u00b2+y\\u00b2-6x-8y=0?',('e = 0','e = 1','0 < e < 1', 'e>1')],7:['What is the volume of the sphere given by the equation:\\n x\\u00b2 + y\\u00b2 + z\\u00b2 - 14x - 18y + 8z + 46=0',('1333.33\\u03C0','4500\\u03C0','415.98\\u03C0','417.33\\u03C0')],8:['Which of the following number is not prime.',(899,499,199,599)],\n",
    "        9:['A tosses 2 fair coins and B tosses 3 fair coins simultaneously.The game is won by the one who throws the maximum number of heads. In case of a tie, the same procedure is repeated till there is a winner. Find Probability that A wins the game.',('3/11','5/11','5/16','3/16')],10:['If x = -5 + 4i, find the value of x\\u2074 + 9x\\u00b3 + 35x\\u00b2 – x + 4',(-160,-170,160,170)],11:['The number of distinct solutions of the equation\\n(5/4)cos\\u00b2x + cos\\u2074x + sin\\u2074x + cos\\u2076x + sin\\u2076x = 2,\\nin the interval [0,2\\u03C0] is',(8,4,2,0)]}"
   ]
  },
  {
   "cell_type": "code",
   "execution_count": 110,
   "metadata": {},
   "outputs": [],
   "source": [
    "set2={1:[' Which is the 5th-largest 4-digit number?',(9995,99995,9994,9950)],2:['Which of the following is an even function',('f(x) = x\\u00b2','f(x) = x\\u00b3','f(x) = exp(x)','f(x)=sin(x)')],3:['Which is the smallest 3 digit number that is divisible by 17?',(102,104,110,108)],4:[' What is the slope of a line perpendicular to the line 2x + 9y = 8 ?',(4.5,-4.5,2/9,-2/9)],5:['Ram has 72 rupees. He gives half of his money to Rajesh. Of the remaining, Ram gives ⅓ rd to Rohan. How much money is left with Ram?',(24,30,28,12)],\n",
    "      6:['The derivative of the given function at x = 0.5 is',(-180,180,160,-160)], 7:[' What is the coefficient of x\\u00b9\\u2075 in the expansion of (x-x2)\\u00b9\\u2070',('-\\u00b9\\u2070C\\u2085','\\u00b9\\u2070C\\u2086','\\u00b9\\u2070C\\u2085','\\u00b9\\u2070C\\u2085')],8:['A boat covers 24 km upstream and 36 km downstream in 6 hours while it covers 36 km upstream and 24 km downstream in 6(1/2) hours. the velocity of the current in km/hr is:',(2, 2.5,1.5,3)],9:['What is the number of integral solutions of the given equation',(3,0,6,12)],\n",
    "      10:[\" The letters of the word ‘QUENCH’ are written in all possible ways and these words are written out alphabetically as in a dictionary. Find the rank of the word ‘QUENCH’.\",(587,586,589,588)],11:['A wire of length 28 m is to be cut into two pieces. One of the pieces is to be made into a square and the other into a circle. What should the length of the two pieces be so that the combined area of the square and the circle is minimum?',('28\\u03C0/(4+\\u03C0), 112/(4 + \\u03C0)','24\\u03C0/(2+\\u03C0), 96/(2 + \\u03C0)','32\\u03C0/(1 + 2\\u03C0), 124/(1 + 2\\u03C0)')]}"
   ]
  },
  {
   "cell_type": "code",
   "execution_count": 111,
   "metadata": {},
   "outputs": [],
   "source": [
    "set3={1:['Which 2 digit number is a perfect square as well as a perfect cube?',(64,1,26,81)],2:['________ formula can be used to find area of a triangle if only the lengths of its sides are known',(\"Heron's\",\"Yannick's\",\"Ramanujan's\",\"Euclid's\")],3:['Evaluate 99 + 0.9 + 0.99 + 9.9',(109.79,108.99,110.99,109.89)],4:['A pair of jeans and a t-shirt costs a total of 400 Rupees. If the cost of the jeans is 200 rupees more than the tshirt, what is the cost of the T-shirt?',(100,150,200,75)],\n",
    "      5:['Which of the following numbers is the smallest?',('π','1+√5','√10','22/7')],6:['Evaluate',(3,2,6,3.5)],7:['In ΔDEF, points A, B and C are taken on DE, DF and EF respectively such that EC=AC and CF=CB. If ∠D=40°, find ∠ACB.',('100°','110°','70°','80°')],\n",
    "      8:['If \\u03b1, \\u03b2 are the distinct roots of the equation x\\u00b2 - x + 1 = 0, then what does the above equal to?',(1,0,-1,2)],9:['Evaluate: sin(20°)sin(40°)sin(80°)',('\\u221A3/8','\\u221A3/4','1/2','1/4')],10:['Which number should replace the question mark?',(4,6,8,10)],\n",
    "      11:['If f(0)=0, then f(1) is:',('tan 1 – (π/4)','(π/4) – tan 1','(π/4) – 1','1 - (π/4)')]}"
   ]
  },
  {
   "cell_type": "code",
   "execution_count": 112,
   "metadata": {},
   "outputs": [],
   "source": [
    "set4={1:['Which is the smallest composite number?',(4,2,1,3)],2:['If there are 12 ducks and 9 dogs in a room, how many legs are there in the room?',(60,54,72,64)],3:['In a college, 500 students study mathematics and 400 students study economics. If there are a total of 700 students enrolled in these two subjects, then find how many students study both the subjects?',(200,300,400,250)],4:['When John was 91 years old, Arun was 1/7th of Johns age. If John is 103 years old today, how old is Arun?',('25','32','28','23')],\n",
    "      5:[' What is the radius (in cm )of the largest circle that will fit in a square of perimeter 32cm? ',(4,8,16,12)],6:['How many 3-digit numbers are divisible by 3?',(300,299,301,298)],7:['What is the coefficient of xy\\u00b2z\\u00b3 in (3x+2y+z)\\u2076',(720,360,120,60)],8:['The population of a village increases at a rate proportional to the number of its inhabitants present at any time. If the population of the village was 20000 in 2015 and 25000 in 2020, then what would be its population in 2025?',(31250,30000,32500,35000)],\n",
    "      9:['Find the number of solutions of the equation \\n( sin(2x) - cos(x) ) / ( cos(2x) + sin(x) - 1 ) = 0 \\nfor 0 ≤ x ≤ 2\\u03C0',(2,4,6,0)],10:['Evaluate the determinant',('0','ab+bc+ca','abc','a+b+c')],11:['Evaluate',(2,1,4,8)]}"
   ]
  },
  {
   "cell_type": "code",
   "execution_count": null,
   "metadata": {},
   "outputs": [],
   "source": []
  },
  {
   "cell_type": "code",
   "execution_count": 121,
   "metadata": {},
   "outputs": [],
   "source": [
    "playerlist = [set1,set2,set3,set4]\n",
    "a = 1\n",
    "player = 1\n",
    "current = playerlist[0]\n",
    "global selected\n",
    "selected = False"
   ]
  },
  {
   "cell_type": "code",
   "execution_count": 114,
   "metadata": {},
   "outputs": [],
   "source": [
    "def lock(button):\n",
    "    button['bg'] = 'Coral1'\n",
    "    tmr.config(text = '')\n",
    "    global selected\n",
    "    selected = True\n",
    "    if a > 7:\n",
    "        playsound('Option Lock - Short.mp3')\n",
    "    else:\n",
    "        playsound('Option Lock - Shorter.mp3')\n",
    "    \n",
    "def timer():\n",
    "    global watchtime\n",
    "    \n",
    "    if a<5:\n",
    "        watchtime = datetime(1,1,1,0,1,0)\n",
    "    elif a<9:\n",
    "        watchtime = datetime(1,1,1,0,2,0)\n",
    "    else:\n",
    "        watchtime = datetime(1,1,1,0,4,0)\n",
    "    \n",
    "    \n",
    "    update()    \n",
    "    #watch = Toplevel()\n",
    "    #watch.geometry('100x100')\n",
    "    #tilab = Label(watch, font = ('Arial',20,'bold'))\n",
    "    #tilab.pack()\n",
    "    \n",
    "def update():\n",
    "    global watchtime\n",
    "    now = watchtime.strftime('%M:%S')\n",
    "    tmr.configure(text=now)\n",
    "    if not selected:\n",
    "        try:\n",
    "            watchtime = watchtime - timedelta(seconds = 1)\n",
    "            comp.after(1000,update)\n",
    "        except :\n",
    "            tmr.config(text='Time up!')\n",
    "    \n",
    "    \n",
    "def pause():\n",
    "    global selected\n",
    "    if not selected:\n",
    "        selected = True\n",
    "    else:\n",
    "        selected = False\n",
    "        update()     "
   ]
  },
  {
   "cell_type": "code",
   "execution_count": 134,
   "metadata": {},
   "outputs": [],
   "source": [
    "def setqstn():\n",
    "    global ans\n",
    "    if (player,a) in [(2,6),(2,9),(3,6),(3,7),(3,8),(3,10),(3,11),(4,10),(4,11)]:\n",
    "     #   tp = Toplevel()\n",
    "      #  tp.geometry('300x300')\n",
    "       # lp = Label(tp,image = cat ).pack()\n",
    "        msg['image'] = cat[player][a]            \n",
    "            \n",
    "    elif a > 11:\n",
    "        msg.config(text='You have won 250 points!')\n",
    "        \n",
    "    else:\n",
    "        msg.config(text='')\n",
    "        msg.config(image='')\n",
    "    options[0][1].config(bg = 'blue')\n",
    "    ans = current.get(a,['',('','','','')])\n",
    "    qstn.config(text = ans[0])\n",
    "    lbl[11-a].config(bg = 'yellow')\n",
    "    j = 0\n",
    "    #playsound('QstnF.mp3')\n",
    "    #playsound('Question Tune.mp3')\n",
    "    global selected\n",
    "    selected = False\n",
    "    \n",
    "def setopt(): \n",
    "    random.shuffle(options)\n",
    "    for i in range(4):\n",
    "        options[i][1].config(text =options[i][0] +str(ans[1][i]))\n",
    " \n",
    "    \n",
    "\n",
    "def check():\n",
    "    global a\n",
    "    if options[0][1]['bg'] == 'Coral1':\n",
    "        msg.config(text = 'That is Correct!')\n",
    "        lbl[11-a].config(bg = 'lime green')\n",
    "    else:\n",
    "        msg.config(text = 'Incorrect!')\n",
    "        lbl[11-a].config(bg = 'red')\n",
    "        playsound('Wrong Answer.mp3')\n",
    "        \n",
    "    options[0][1].config(bg = 'green')\n",
    "    msg.config(image='')\n",
    "    a += 1\n",
    "    \n",
    "\n"
   ]
  },
  {
   "cell_type": "code",
   "execution_count": 116,
   "metadata": {},
   "outputs": [],
   "source": [
    "def quit():\n",
    "    msg.config(text = 'You have won {} points!'.format(pts[12-a]))\n",
    "    \n",
    "def finalpts():\n",
    "    if a > 9: \n",
    "        msg.config(text = 'You have won 80 points!')\n",
    "    elif a > 5:\n",
    "        msg.config(text = 'You have won 20 points!')\n",
    "    else:\n",
    "        msg.config(text = 'You have won 0 points!')\n",
    "            \n",
    "def clear():\n",
    "    for i in range(4):\n",
    "        options[i][1].config(text = '',bg='blue')\n",
    "    qstn.config(text='')\n",
    "    tmr.config(text='')\n",
    "    msg.config(text='',image='')\n",
    "    global selected\n",
    "    selected = False\n",
    "    try:\n",
    "        figgy.get_tk_widget().pack_forget()\n",
    "    except:\n",
    "        pass"
   ]
  },
  {
   "cell_type": "code",
   "execution_count": 117,
   "metadata": {},
   "outputs": [],
   "source": [
    "def newplayer():\n",
    "    for i in range(3):\n",
    "        lifelines[i].config(relief = RAISED,command = lflfunc[i])\n",
    "        options[i][1].config(text = '', bg = 'blue')\n",
    "        \n",
    "    for j in lbl:\n",
    "        j.config(bg = 'black')\n",
    "    global player\n",
    "    global a\n",
    "    player += 1\n",
    "    a = 1\n",
    "    global current\n",
    "    current = playerlist[player-1]\n",
    "    msg.config(text='')\n",
    "    qstn.config(text = '')\n",
    "    tmr.config(text='')\n",
    "    global selected\n",
    "    selected = False"
   ]
  },
  {
   "cell_type": "code",
   "execution_count": 118,
   "metadata": {},
   "outputs": [],
   "source": [
    "def fifty50():\n",
    "    options[1][1].config(text='')\n",
    "    options[2][1].config(text='')\n",
    "    lifelines[0].config(relief = FLAT, command = dummy)\n",
    "\n",
    "#def flipq():\n",
    " #   ans = optn[a]\n",
    "  #  random.shuffle(options)\n",
    "   # qstn.config(text = qst[a])\n",
    "    \n",
    "def resetopt():\n",
    "    for i in options:\n",
    "        i[1].config(bg='blue')\n",
    "        i[1].config(image='')\n",
    "    msg.config(text='')\n",
    "\n",
    "def dummy():\n",
    "    pass\n",
    "\n",
    "def stockclock():\n",
    "    global watchtime\n",
    "    if a<5:\n",
    "        watchtime = watchtime + timedelta(minutes=1)\n",
    "    elif a<8:\n",
    "        watchtime = watchtime + timedelta(minutes = 2)\n",
    "    else:\n",
    "        watchtime = watchtime + timedelta(minutes = 4)\n",
    "        \n",
    "    tmr.config(text = watchtime.strftime('%M:%S'))    \n",
    "    lifelines[1].config(relief = FLAT, command = dummy)    \n",
    "\n",
    "def reset():\n",
    "    global player\n",
    "    global a\n",
    "    player = 1\n",
    "    a = 1"
   ]
  },
  {
   "cell_type": "code",
   "execution_count": 119,
   "metadata": {},
   "outputs": [],
   "source": [
    "def timopt():\n",
    "    setopt()\n",
    "    timer()"
   ]
  },
  {
   "cell_type": "code",
   "execution_count": 153,
   "metadata": {},
   "outputs": [
    {
     "data": {
      "image/png": "[encoded data removed]",
      "text/plain": [
       "<Figure size 342x119 with 1 Axes>"
      ]
     },
     "metadata": {
      "needs_background": "light"
     },
     "output_type": "display_data"
    },
    {
     "data": {
      "image/png": "[encoded data removed]",
      "text/plain": [
       "<Figure size 342x119 with 1 Axes>"
      ]
     },
     "metadata": {
      "needs_background": "light"
     },
     "output_type": "display_data"
    }
   ],
   "source": [
    "\n",
    "comp = Tk()\n",
    "comp.title(\"YanKBC\")\n",
    "comp.geometry('1080x720')\n",
    "comp.config(bg = 'blue')\n",
    "scr = Frame(comp, bg = 'black')\n",
    "scr.place(relx = 0.03, rely = 0.22, relwidth = 0.7, relheight =0.75)\n",
    "\n",
    "msg = Label(scr,bg='black', fg='white',font = ('Arial',24))\n",
    "msg.place(relx = 0.01, rely = 0.02, relheight = 0.25, relwidth = 0.98 )\n",
    "##########################################################\n",
    "cat = ['dummy','dummy2',\n",
    "       {6:ImageTk.PhotoImage(pics[0]),9:ImageTk.PhotoImage(pics[1])},\n",
    "       {i:ImageTk.PhotoImage(pics[j]) for (i,j) in imgdict[1]},\n",
    "       {i:ImageTk.PhotoImage(pics[j]) for (i,j) in imgdict[2]}]\n",
    "\n",
    "\n",
    "\n",
    "#optphoto = [ImageTk.PhotoImage(i) for i in optpics]\n",
    "\n",
    "\n",
    "\n",
    "################  QUESTIONS AND ANSWERS ##############################\n",
    "\n",
    "qstn = Label(scr , bg = 'blue', bd =5, fg='white',anchor = 'w', font = ('Times New Roman', 18), wraplength = 720, justify = LEFT)\n",
    "qstn.place(relx =0.01,rely = 0.29, relwidth = 0.98, relheight = 0.29)\n",
    "\n",
    "op1 = Button(scr,bg = 'blue',bd=5, relief = 'flat',fg ='white',anchor = 'w', font = ('Times New Roman', 18),activebackground ='Coral1', justify = LEFT)\n",
    "op1.place(relx = 0.01, rely = 0.6, relwidth = 0.485, relheight = 0.192)\n",
    "\n",
    "\n",
    "op2 = Button(scr,bg = 'blue',bd=5, relief = 'flat', fg = 'white',anchor = 'w', font = ('Times New Roman', 18),activebackground ='Coral1', justify = LEFT)\n",
    "op2.place(relx = 0.505, rely = 0.6, relwidth = 0.485, relheight = 0.195)\n",
    "\n",
    "op3 = Button(scr,bg = 'blue',bd=5, relief = 'flat', fg = 'white',anchor = 'w', font = ('Times New Roman', 18),activebackground ='Coral1', justify = LEFT)\n",
    "op3.place(relx = 0.01, rely = 0.8, relwidth = 0.485, relheight = 0.195)\n",
    "\n",
    "op4 = Button(scr,bg = 'blue',bd=5, relief = 'flat',fg ='white',anchor = 'w', font = ('Times New Roman', 18),activebackground ='Coral1', justify = LEFT)\n",
    "op4.place(relx = 0.505, rely = 0.8, relwidth = 0.485, relheight = 0.195)\n",
    "\n",
    "abcd = ['A. ','B. ', 'C. ','D. ']\n",
    "options = list(zip(abcd,[op1,op2,op3,op4]))\n",
    "\n",
    "tmr = Button(scr,bg='black',fg='white',font=('Arial',20,'bold'), command = pause)\n",
    "tmr.place(relx = 0.42,rely = 0.73,relwidth=0.16,relheight = 0.12)\n",
    "###################### POINTS ########################\n",
    "lst = LabelFrame(comp, bg = 'black')\n",
    "lst.place(relx = 0.79, rely = 0.05, relwidth = 0.17, relheight = 0.6)\n",
    "lbl = [0]*11\n",
    "pts = [250, 150, 100, 80, 60,40,30,20,15,10,5]\n",
    "\n",
    "lbl[0] = Label(lst, bg = 'black', fg = 'OrangeRed3',anchor = 'w', text = ' {}. {} pts'.format(11, pts[0]) , font = ('Arial', 20), justify = 'left')\n",
    "lbl[0].pack(expand = True, fill = BOTH)\n",
    "lbl[1] = Label(lst, bg = 'black', fg = 'OrangeRed3',anchor = 'w', text = ' {}. {} pts'.format(10, pts[1]) , font = ('Arial', 20), justify = 'left')\n",
    "lbl[1].pack(expand = True, fill = BOTH)    \n",
    "\n",
    "for i in range(2,11):\n",
    "    lbl[i] = Label(lst, bg = 'black', fg = 'OrangeRed3',anchor = 'w', text = '  {}. {} pts'.format(' '+str(11-i), pts[i]) , font = ('Arial', 20), justify = 'left')\n",
    "    lbl[i].pack(expand = True, fill = BOTH)\n",
    "\n",
    "                 \n",
    "                   \n",
    "                   \n",
    "lbl[7].config(fg = 'white')\n",
    "lbl[3].config(fg = 'white')\n",
    "    \n",
    "\n",
    "#################################### BUTTONS #################    \n",
    "\n",
    "\n",
    "bttn1 = Frame(comp, bg = 'black')\n",
    "bttn1.place(relx = 0.76, rely = 0.7 , relwidth = 0.11, relheight = 0.25)\n",
    "\n",
    "bttn2 = Frame(comp, bg = 'black')\n",
    "bttn2.place(relx = 0.87, rely = 0.7 , relwidth = 0.11, relheight = 0.25)\n",
    "\n",
    "nq = [0]*6\n",
    "nxtq1 = Button(bttn1, text = 'New Question',bg = 'black', fg = 'Coral3', command = setqstn)\n",
    "nxtq1.pack(fill = BOTH, expand = True)\n",
    "\n",
    "nxtq4 = Button(bttn1, text = 'Options',bg = 'black', fg = 'Coral3', command = timopt)\n",
    "nxtq4.pack(fill = BOTH, expand = True)\n",
    "\n",
    "nxtq2 = Button(bttn1, text = 'Check', bg = 'black', fg = 'Coral3',command = check)\n",
    "nxtq2.pack(fill = BOTH, expand = True)\n",
    "\n",
    "nxtq3 = Button(bttn1, text = 'Clear', bg = 'black', fg = 'Coral3',command = clear)\n",
    "nxtq3.pack(fill = BOTH, expand = True)\n",
    "\n",
    "\n",
    "b2f = [('resetopt',resetopt),('Quit',quit),('Pts',finalpts),('New Player',newplayer)]\n",
    "for i in range(4):\n",
    "    nq[i] = Button(bttn2, text = b2f[i][0],bg = 'black', fg = 'Coral3', command = b2f[i][1] )\n",
    "    nq[i].pack(fill = BOTH, expand = True)\n",
    "\n",
    "    \n",
    "\n",
    "################################### LIFELINES ###########################\n",
    "\n",
    "\n",
    "lifeline = Frame(comp, bg = 'black')\n",
    "lifeline.place(relx = 0.03, rely = 0.01, relwidth = 0.36, relheight = 0.15)\n",
    "\n",
    "lifelines = [0]*3\n",
    "lflname = ['50:50', 'Stock the\\n Clock', 'Calcy']\n",
    "lflfunc = [fifty50, stockclock, dummy]\n",
    "for i in range(3):\n",
    "    lifelines[i] = Button(lifeline, text = lflname[i] ,font = ('Arial', 15, 'bold'), bd =5, bg = 'black', fg = 'yellow',command = lflfunc[i])\n",
    "    lifelines[i].pack(side = LEFT, expand=True, fill = BOTH)\n",
    "\n",
    "\n",
    "for i,j in options:\n",
    "    j['command'] = partial(lock, j)    \n",
    "    \n",
    "    \n",
    "###############################\n",
    "\n",
    "but2 = Label(comp)\n",
    "but2.place(relx=0.43, rely = 0.01, relwidth = 0.32, relheight = 0.17)\n",
    "\n",
    "but3 = Button(but2, text = 'x', command = plot)\n",
    "but3.place(relx=0.9,rely=0,relwidth =0.1, relheight=0.2)\n",
    "\n",
    "comp.mainloop()"
   ]
  },
  {
   "cell_type": "code",
   "execution_count": 152,
   "metadata": {},
   "outputs": [],
   "source": [
    "current = set4"
   ]
  },
  {
   "cell_type": "code",
   "execution_count": 151,
   "metadata": {},
   "outputs": [],
   "source": [
    "a = 1\n",
    "player = 4"
   ]
  },
  {
   "cell_type": "code",
   "execution_count": 81,
   "metadata": {},
   "outputs": [
    {
     "data": {
      "text/plain": [
       "(1, 1)"
      ]
     },
     "execution_count": 81,
     "metadata": {},
     "output_type": "execute_result"
    }
   ],
   "source": [
    "a,player"
   ]
  },
  {
   "cell_type": "code",
   "execution_count": null,
   "metadata": {},
   "outputs": [],
   "source": []
  }
 ],
 "metadata": {
  "kernelspec": {
   "display_name": "Python 3",
   "language": "python",
   "name": "python3"
  },
  "language_info": {
   "codemirror_mode": {
    "name": "ipython",
    "version": 3
   },
   "file_extension": ".py",
   "mimetype": "text/x-python",
   "name": "python",
   "nbconvert_exporter": "python",
   "pygments_lexer": "ipython3",
   "version": "3.7.4"
  }
 },
 "nbformat": 4,
 "nbformat_minor": 2
}
