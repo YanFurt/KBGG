{
 "cells": [
  {
   "cell_type": "code",
   "execution_count": 37,
   "metadata": {
    "scrolled": true
   },
   "outputs": [
    {
     "name": "stdout",
     "output_type": "stream",
     "text": [
      "1\n"
     ]
    },
    {
     "name": "stderr",
     "output_type": "stream",
     "text": [
      "Exception in Tkinter callback\n",
      "Traceback (most recent call last):\n",
      "  File \"C:\\Users\\Yannique\\Anaconda3\\lib\\tkinter\\__init__.py\", line 1705, in __call__\n",
      "    return self.func(*args)\n",
      "  File \"<ipython-input-37-cf8c8398d72c>\", line 67, in sortans\n",
      "    b += 1\n",
      "UnboundLocalError: local variable 'b' referenced before assignment\n"
     ]
    }
   ],
   "source": [
    "import numpy as np\n",
    "from tkinter import *\n",
    "from functools import partial\n",
    "import time\n",
    "from datetime import datetime,timedelta\n",
    "import random\n",
    "import json\n",
    "from playsound import playsound\n",
    "import pandas as pd\n",
    "from tkinter import filedialog\n",
    "\n",
    "\n",
    "\n",
    "#qstns = {1:['Arrange in the decreasing order of area:',[('A. Rectangle with sides 1m and 0.5m',0.5),('B. Square with side 1m',1),('C. Right angled triangle with base 3m and height 2m',3),('D. Circle with radius 1m',3.14)]],2:['Arrange in ascending order']}\n",
    "qstns = {1:['You have not entered the questions, add through Qstn path option in file menu',[['','']*4] ]}\n",
    "\n",
    "global b\n",
    "b = 1\n",
    "global j\n",
    "j = 0\n",
    "\n",
    "def timer():\n",
    "    global watchtime\n",
    "    try:\n",
    "        watchtime = datetime(1,1,1,0,mint,secc)\n",
    "    except:\n",
    "        watchtime = datetime(1,1,1,0,1,0)\n",
    "    update()    \n",
    "    \n",
    "    \n",
    "def update():\n",
    "    global watchtime\n",
    "    now = watchtime.strftime('%M:%S')\n",
    "    ftmr.configure(text=now)\n",
    "    try:\n",
    "        watchtime = watchtime - timedelta(seconds = 1)\n",
    "        fcomp.after(1000,update)\n",
    "    except :\n",
    "        ftmr.config(text='Time up!')\n",
    "\n",
    "            \n",
    "def timopt():\n",
    "    setopt()\n",
    "    timer()\n",
    "\n",
    "def setqstn():\n",
    "    global curr\n",
    "    curr = qstns[str(b)]\n",
    "    global sortcurr\n",
    "    sortcurr = iter(sorted(curr[1], reverse = (b%2==1), key = lambda x: x[1]))\n",
    "    fqstn.config(text=curr[0])\n",
    "    \n",
    "def setopt():\n",
    "    for i in range(4):\n",
    "        anss[i].config(text = curr[1][i][0])\n",
    "        \n",
    "\n",
    "def sortans():\n",
    "    global j\n",
    "    global b\n",
    "    try:\n",
    "        resp = next(sortcurr)\n",
    "        anss[j].config(text= resp[0] + ' = '+str(resp[1]))\n",
    "        if j<3:\n",
    "            j += 1\n",
    "        else:\n",
    "            j=0\n",
    "            b += 1\n",
    "        \n",
    "        #fscr.after(2000,sortans)\n",
    "    except StopIteration:\n",
    "        pass\n",
    "\n",
    "        \n",
    "\n",
    "def clr():\n",
    "    for i in range(4):\n",
    "        anss[i].config(text='')\n",
    "        \n",
    "    \n",
    "def leaderboard():\n",
    "    fqstn.place_forget()\n",
    "    ldrbrd.place(relx = 0.05, rely = 0.1, relwidth = 0.6, relheight =0.8)\n",
    "    df = pd.read_excel('C:/Users/Yannique/Downloads/apoll.xlsx', parse_dates=[0], usecols=[0,2,3])\n",
    "    df.dropna(how='all',inplace=True)\n",
    "    df['Time']=pd.to_datetime(df['Timestamp']-df.iloc[0,0]).dt.strftime('%M:%S.%f')\n",
    "    for i in range(1,len(df)):\n",
    "        plnam[i].config(text =df.iloc[i,1].upper())\n",
    "        plans[i].config(text=df.iloc[i,2].upper())\n",
    "        pltime[i].config(text=df.iloc[i,3][:8])\n",
    "        \n",
    "        \n",
    "def revcor(event):\n",
    "    for i in range(10):\n",
    "        if plans[i]['text'] == 'DABC':\n",
    "            plnam[i].config(bg='green')\n",
    "            plans[i].config(bg='green')\n",
    "            pltime[i].config(bg='green')\n",
    "\n",
    "def submittime():\n",
    "    global mint\n",
    "    global secc\n",
    "    mint = int(timm.get())\n",
    "    secc = int(tims.get())\n",
    "    tm.destroy()\n",
    "    \n",
    "    \n",
    "def settime():\n",
    "    global tm\n",
    "    tm = Toplevel(fcomp)\n",
    "    tm.geometry('250x120')\n",
    "    l11 = Label(tm, text = 'Minutes')\n",
    "    l12 = Label(tm,text = 'Seconds')\n",
    "    e1 = Spinbox(tm, from_ = 0, to = 60, textvariable = timm)\n",
    "    e2 = Spinbox(tm, from_=0, to = 59, textvariable = tims)\n",
    "    ok = Button(tm,text='OK', command = submittime)\n",
    "    l11.grid(row=0, column=0)\n",
    "    l12.grid(row=1, column = 0)\n",
    "    e1.grid(row=0, column=1)\n",
    "    e2.grid(row=1,column=1)\n",
    "    ok.grid(row=3, columnspan=2)\n",
    "    \n",
    "    \n",
    "\n",
    "fcomp = Tk()\n",
    "fcomp.title(\"Fastest Finger First\")\n",
    "fcomp.geometry('900x720')\n",
    "fcomp.config(bg = 'blue')\n",
    "fscr = Frame(fcomp, bg = 'black')\n",
    "fscr.place(relx = 0.05, rely = 0.1, relwidth = 0.6, relheight =0.8)\n",
    "\n",
    "ldrbrd = Frame(fcomp, bg = 'black')\n",
    "\n",
    "def qstnfile():\n",
    "    file = filedialog.askopenfile(mode='r', filetypes=[('Text files','*.txt')])\n",
    "    if file is not None:\n",
    "        global cont\n",
    "        cont = file.readlines()\n",
    "        print(len(cont))\n",
    "        global qstns\n",
    "        qstns= json.loads(cont[0])\n",
    "        \n",
    "################################################################33\n",
    "topmen = Menu(fcomp, tearoff=0)\n",
    "\n",
    "filemenu = Menu(topmen)\n",
    "#filemenu.add_command('Result Path')\n",
    "filemenu.add_command(label='Qstn Path', command = qstnfile)\n",
    "newmenu = Menu(topmen)\n",
    "#newmenu.add_command()\n",
    "\n",
    "topmen.add_cascade(label='File',menu=filemenu)\n",
    "topmen.add_command(label='Time', command=settime)\n",
    "##############################################################\n",
    "\n",
    "plnam = [Label(ldrbrd, fg='white',bg='black',font = ('Times New Roman', 15), anchor='w') for i in range(10)]\n",
    "plans = [Label(ldrbrd, fg='white',bg='black',font = ('Times New Roman', 15), anchor='w') for i in range(10)]\n",
    "pltime = [Label(ldrbrd, fg='white',bg='black',font = ('Times New Roman', 15), anchor='w') for i in range(10)]\n",
    "\n",
    "for i in range(10):\n",
    "    plnam[i].place(relx=0, rely=0+0.1*i,relwidth=0.4,relheight=0.1)\n",
    "    plans[i].place(relx=0.4, rely=0+0.1*i,relwidth=0.3,relheight=0.1)\n",
    "    pltime[i].place(relx=0.7, rely=0+0.1*i,relwidth=0.3,relheight=0.1)    \n",
    "    \n",
    "\n",
    "plnam[0].config(text= 'Player')\n",
    "plans[0].config(text='Answer')\n",
    "pltime[0].config(text='Time')\n",
    "\n",
    "\n",
    "fqstn = Label(fscr , bg = 'blue', bd =5, fg='white',anchor = 'w', font = ('Times New Roman', 18), wraplength = 500, justify = LEFT)\n",
    "fqstn.place(relx = 0.05, rely = 0.02, relwidth = 0.9, relheight = 0.23)\n",
    "\n",
    "fcomp.bind('<Up>',revcor)\n",
    "\n",
    "anss = [0,0,0,0]\n",
    "for i in range(4):\n",
    "    anss[i] = Label(fscr, bg ='blue',font = ('Times New Roman', 15),anchor='w',fg = 'white')\n",
    "    anss[i].place(relx = 0.05, rely = 0.28 + i*0.18, relwidth = 0.9, relheight = 0.16)\n",
    "    \n",
    "    \n",
    "ftmr = Label(fcomp)    \n",
    "ftmr.place(relx = 0.72, rely = 0.1, relwidth = 0.2, relheight = 0.1)\n",
    "\n",
    "butfr = Frame(fcomp)\n",
    "butfr.place(relx = 0.7, rely = 0.4, relwidth = 0.25, relheight = 0.5)\n",
    "\n",
    "fbuts = [0]*5\n",
    "commands = [('Qstn',setqstn),('Options',timopt),('Clear',clr),('Sort',sortans),('Leaderboard', leaderboard)]\n",
    "for i in range(5):\n",
    "    fbuts[i] = Button(butfr, text = commands[i][0], command = commands[i][1])\n",
    "    fbuts[i].pack(expand=True, fill=BOTH)\n",
    "    \n",
    "    \n",
    "timm = StringVar()\n",
    "tims = StringVar()\n",
    "\n",
    "fcomp['menu'] = topmen\n",
    "fcomp.mainloop()"
   ]
  },
  {
   "cell_type": "code",
   "execution_count": 9,
   "metadata": {},
   "outputs": [],
   "source": [
    "b = 0"
   ]
  },
  {
   "cell_type": "code",
   "execution_count": 7,
   "metadata": {},
   "outputs": [
    {
     "ename": "NameError",
     "evalue": "name 'cont' is not defined",
     "output_type": "error",
     "traceback": [
      "\u001b[1;31m---------------------------------------------------------------------------\u001b[0m",
      "\u001b[1;31mNameError\u001b[0m                                 Traceback (most recent call last)",
      "\u001b[1;32m<ipython-input-7-0f86955b8609>\u001b[0m in \u001b[0;36m<module>\u001b[1;34m\u001b[0m\n\u001b[1;32m----> 1\u001b[1;33m \u001b[0mlen\u001b[0m\u001b[1;33m(\u001b[0m\u001b[0mcont\u001b[0m\u001b[1;33m)\u001b[0m\u001b[1;33m\u001b[0m\u001b[1;33m\u001b[0m\u001b[0m\n\u001b[0m",
      "\u001b[1;31mNameError\u001b[0m: name 'cont' is not defined"
     ]
    }
   ],
   "source": [
    "len(cont)"
   ]
  },
  {
   "cell_type": "code",
   "execution_count": 35,
   "metadata": {},
   "outputs": [
    {
     "data": {
      "text/plain": [
       "{'1': ['a',\n",
       "  [['A. o1', '11'], ['B. o2', '22'], ['C. o3', '33'], ['D. o4', '44']]]}"
      ]
     },
     "execution_count": 35,
     "metadata": {},
     "output_type": "execute_result"
    }
   ],
   "source": [
    "curr"
   ]
  },
  {
   "cell_type": "code",
   "execution_count": 36,
   "metadata": {},
   "outputs": [
    {
     "ename": "KeyError",
     "evalue": "0",
     "output_type": "error",
     "traceback": [
      "\u001b[1;31m---------------------------------------------------------------------------\u001b[0m",
      "\u001b[1;31mKeyError\u001b[0m                                  Traceback (most recent call last)",
      "\u001b[1;32m<ipython-input-36-c56b6fd8f6f2>\u001b[0m in \u001b[0;36m<module>\u001b[1;34m\u001b[0m\n\u001b[1;32m----> 1\u001b[1;33m \u001b[0mqstns\u001b[0m\u001b[1;33m[\u001b[0m\u001b[1;36m0\u001b[0m\u001b[1;33m]\u001b[0m\u001b[1;33m\u001b[0m\u001b[1;33m\u001b[0m\u001b[0m\n\u001b[0m",
      "\u001b[1;31mKeyError\u001b[0m: 0"
     ]
    }
   ],
   "source": [
    "qstns[0]"
   ]
  },
  {
   "cell_type": "code",
   "execution_count": 20,
   "metadata": {},
   "outputs": [
    {
     "data": {
      "text/plain": [
       "'C:\\\\Users\\\\Yannique'"
      ]
     },
     "execution_count": 20,
     "metadata": {},
     "output_type": "execute_result"
    }
   ],
   "source": [
    "pwd"
   ]
  },
  {
   "cell_type": "code",
   "execution_count": 30,
   "metadata": {},
   "outputs": [],
   "source": [
    "fileref = open('kbggff.txt','r')"
   ]
  },
  {
   "cell_type": "code",
   "execution_count": 31,
   "metadata": {},
   "outputs": [],
   "source": [
    "a=fileref.read()"
   ]
  },
  {
   "cell_type": "code",
   "execution_count": 32,
   "metadata": {},
   "outputs": [
    {
     "data": {
      "text/plain": [
       "'{\"1\": [\"a\", [[\"A. o1\", \"2\"], [\"B. o2\", \"3\"], [\"C. o3\", \"4\"], [\"D. o4\", \"6\"]]], \"2\": [\"a\", [[\"A. o1\", \"6\"], [\"B. o3\", \"8\"], [\"C. o4\", \"7\"], [\"D. o2\", \"3\"]]], \"3\": [\"a\", [[\"A. o3\", \"5\"], [\"B. o2\", \"6\"], [\"C. o4\", \"8\"], [\"D. o1\", \"4\"]]]}'"
      ]
     },
     "execution_count": 32,
     "metadata": {},
     "output_type": "execute_result"
    }
   ],
   "source": [
    "a"
   ]
  },
  {
   "cell_type": "code",
   "execution_count": 33,
   "metadata": {},
   "outputs": [
    {
     "data": {
      "text/plain": [
       "{'1': ['a', [['A. o1', '2'], ['B. o2', '3'], ['C. o3', '4'], ['D. o4', '6']]],\n",
       " '2': ['a', [['A. o1', '6'], ['B. o3', '8'], ['C. o4', '7'], ['D. o2', '3']]],\n",
       " '3': ['a', [['A. o3', '5'], ['B. o2', '6'], ['C. o4', '8'], ['D. o1', '4']]]}"
      ]
     },
     "execution_count": 33,
     "metadata": {},
     "output_type": "execute_result"
    }
   ],
   "source": [
    "json.loads(a)"
   ]
  },
  {
   "cell_type": "code",
   "execution_count": null,
   "metadata": {},
   "outputs": [],
   "source": []
  }
 ],
 "metadata": {
  "kernelspec": {
   "display_name": "Python 3",
   "language": "python",
   "name": "python3"
  },
  "language_info": {
   "codemirror_mode": {
    "name": "ipython",
    "version": 3
   },
   "file_extension": ".py",
   "mimetype": "text/x-python",
   "name": "python",
   "nbconvert_exporter": "python",
   "pygments_lexer": "ipython3",
   "version": "3.7.4"
  }
 },
 "nbformat": 4,
 "nbformat_minor": 2
}
